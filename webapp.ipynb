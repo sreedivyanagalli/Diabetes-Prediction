{
  "nbformat": 4,
  "nbformat_minor": 0,
  "metadata": {
    "colab": {
      "provenance": []
    },
    "kernelspec": {
      "name": "python3",
      "display_name": "Python 3"
    },
    "language_info": {
      "name": "python"
    }
  },
  "cells": [
    {
      "cell_type": "code",
      "execution_count": 7,
      "metadata": {
        "colab": {
          "base_uri": "https://localhost:8080/"
        },
        "id": "NDBaeXb-PD51",
        "outputId": "c229a0bd-38b4-4bdb-9ce6-b747b662e2c1"
      },
      "outputs": [
        {
          "output_type": "stream",
          "name": "stdout",
          "text": [
            "Drive already mounted at /content/drive; to attempt to forcibly remount, call drive.mount(\"/content/drive\", force_remount=True).\n",
            "True\n",
            "True\n",
            "Requirement already satisfied: flask in /usr/local/lib/python3.11/dist-packages (3.1.0)\n",
            "Requirement already satisfied: pyngrok in /usr/local/lib/python3.11/dist-packages (7.2.8)\n",
            "Requirement already satisfied: Werkzeug>=3.1 in /usr/local/lib/python3.11/dist-packages (from flask) (3.1.3)\n",
            "Requirement already satisfied: Jinja2>=3.1.2 in /usr/local/lib/python3.11/dist-packages (from flask) (3.1.5)\n",
            "Requirement already satisfied: itsdangerous>=2.2 in /usr/local/lib/python3.11/dist-packages (from flask) (2.2.0)\n",
            "Requirement already satisfied: click>=8.1.3 in /usr/local/lib/python3.11/dist-packages (from flask) (8.1.8)\n",
            "Requirement already satisfied: blinker>=1.9 in /usr/local/lib/python3.11/dist-packages (from flask) (1.9.0)\n",
            "Requirement already satisfied: PyYAML>=5.1 in /usr/local/lib/python3.11/dist-packages (from pyngrok) (6.0.2)\n",
            "Requirement already satisfied: MarkupSafe>=2.0 in /usr/local/lib/python3.11/dist-packages (from Jinja2>=3.1.2->flask) (3.0.2)\n",
            "✅ app.py created successfully.\n"
          ]
        }
      ],
      "source": [
        "from google.colab import drive\n",
        "drive.mount('/content/drive')\n",
        "\n",
        "import os\n",
        "print(os.path.exists('/content/drive/MyDrive/fake_news_model.h5'))\n",
        "print(os.path.exists('/content/drive/MyDrive/tokenizer.pickle'))\n",
        "\n",
        "!pip install flask pyngrok\n",
        "\n",
        "app_code = \"\"\"\n",
        "from flask import Flask, request, render_template_string\n",
        "import tensorflow as tf\n",
        "import numpy as np\n",
        "import pickle\n",
        "import re\n",
        "import string\n",
        "from tensorflow.keras.preprocessing.sequence import pad_sequences\n",
        "\n",
        "# Load model and tokenizer\n",
        "model = tf.keras.models.load_model('/content/drive/MyDrive/fake_news_model.h5')\n",
        "with open('/content/drive/MyDrive/tokenizer.pickle', 'rb') as handle:\n",
        "    tokenizer = pickle.load(handle)\n",
        "\n",
        "# Constants\n",
        "max_length = 50\n",
        "\n",
        "# Clean text\n",
        "def clean_text(text):\n",
        "    text = text.lower()\n",
        "    text = re.sub(r'[{}]'.format(re.escape(string.punctuation)), ' ', text)\n",
        "    text = re.sub(r'\\\\\\\\w*\\\\\\\\d\\\\\\\\w*', '', text)\n",
        "    text = re.sub(r'\\\\\\\\s+', ' ', text).strip()\n",
        "    return text\n",
        "\n",
        "# Predict function\n",
        "def predict(text):\n",
        "    cleaned = clean_text(text)\n",
        "    seq = tokenizer.texts_to_sequences([cleaned])\n",
        "    padded = pad_sequences(seq, maxlen=max_length, padding='post', truncating='post')\n",
        "    prob = model.predict(padded)[0][0]\n",
        "    label = \"Real\" if prob > 0.5 else \"Fake\"\n",
        "    return label, prob\n",
        "\n",
        "# Flask setup\n",
        "app = Flask(__name__)\n",
        "\n",
        "HTML_TEMPLATE = '''\n",
        "<!DOCTYPE html>\n",
        "<html>\n",
        "  <head><title>Fake News Detection</title></head>\n",
        "  <body>\n",
        "    <h2>Enter a News Statement</h2>\n",
        "    <form method=\"post\">\n",
        "      <textarea name=\"news\" rows=\"6\" cols=\"60\" placeholder=\"Enter text here...\"></textarea><br><br>\n",
        "      <input type=\"submit\" value=\"Check\">\n",
        "    </form>\n",
        "    {% if result %}\n",
        "      <p>Confidence: {{ prob }}%</p>\n",
        "    {% endif %}\n",
        "  </body>\n",
        "</html>\n",
        "'''\n",
        "\n",
        "@app.route(\"/\", methods=['GET', 'POST'])\n",
        "def home():\n",
        "    result = None\n",
        "    prob = None\n",
        "    if request.method == 'POST':\n",
        "        news = request.form['news']\n",
        "        result, p = predict(news)\n",
        "        prob = round(p * 100, 2)\n",
        "    return render_template_string(HTML_TEMPLATE, result=result, prob=prob)\n",
        "\n",
        "app.run(port=5000)\n",
        "\"\"\"\n",
        "\n",
        "with open(\"app.py\", \"w\") as f:\n",
        "    f.write(app_code)\n",
        "\n",
        "print(\"app.py created successfully.\")"
      ]
    },
    {
      "cell_type": "code",
      "source": [
        "from pyngrok import conf, ngrok\n",
        "import subprocess\n",
        "import time\n",
        "\n",
        "conf.get_default().auth_token = \"2x7PIQfAxBoe3LxRNrfjYnHVzSK_6Z5VMa2drcaKDVuX17VYy\"\n",
        "public_url = ngrok.connect(5000)\n",
        "print(\"Your app is live at:\", public_url)\n",
        "process = subprocess.Popen([\"python3\", \"app.py\"])\n",
        "time.sleep(3)"
      ],
      "metadata": {
        "colab": {
          "base_uri": "https://localhost:8080/"
        },
        "id": "AHuomHOtYsaN",
        "outputId": "380af95b-ac8e-463f-bb46-d72f2e855f4f"
      },
      "execution_count": 8,
      "outputs": [
        {
          "output_type": "stream",
          "name": "stdout",
          "text": [
            "🚀 Your app is live at: NgrokTunnel: \"https://7531-34-48-147-62.ngrok-free.app\" -> \"http://localhost:5000\"\n"
          ]
        }
      ]
    }
  ]
}